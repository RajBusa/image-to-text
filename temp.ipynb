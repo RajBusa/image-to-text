{
 "cells": [
  {
   "cell_type": "code",
   "execution_count": 1,
   "metadata": {},
   "outputs": [
    {
     "name": "stdout",
     "output_type": "stream",
     "text": [
      "print\n"
     ]
    }
   ],
   "source": [
    "print(\"print\")"
   ]
  },
  {
   "cell_type": "code",
   "execution_count": 1,
   "metadata": {},
   "outputs": [
    {
     "name": "stderr",
     "output_type": "stream",
     "text": [
      "/usr/lib/python3/dist-packages/requests/__init__.py:87: RequestsDependencyWarning: urllib3 (2.2.0) or chardet (4.0.0) doesn't match a supported version!\n",
      "  warnings.warn(\"urllib3 ({}) or chardet ({}) doesn't match a supported \"\n"
     ]
    }
   ],
   "source": [
    "from langchain_community.llms import Ollama"
   ]
  },
  {
   "cell_type": "code",
   "execution_count": 10,
   "metadata": {},
   "outputs": [
    {
     "data": {
      "text/plain": [
       "Ollama(model='gemma:2b-instruct')"
      ]
     },
     "execution_count": 10,
     "metadata": {},
     "output_type": "execute_result"
    }
   ],
   "source": [
    "# ssh-ed25519 AAAAC3NzaC1lZDI1NTE5AAAAIOph+bZep4cYBOtHJx/pLpzEyQE5y4Q8o5Yq8qhQoE90\n",
    "\n",
    "llm = Ollama(model=\"gemma:2b-instruct\")\n",
    "llm"
   ]
  },
  {
   "cell_type": "code",
   "execution_count": 13,
   "metadata": {},
   "outputs": [
    {
     "name": "stdout",
     "output_type": "stream",
     "text": [
      "Yes, I do know about Amazon Web Services (AWS). Here's a summary of what I know:\n",
      "\n",
      "**AWS is a global cloud computing platform** owned by Amazon. It provides a wide range of services, including:\n",
      "\n",
      "* **Compute:** Virtual servers, containers, and serverless computing.\n",
      "* **Storage:** Object storage, block storage, and data warehouses.\n",
      "* **Networking:** Load balancing, security, and content delivery.\n",
      "* **Databases:** Relational databases, NoSQL databases, and analytics services.\n",
      "* **Analytics:** Machine learning, data analytics, and visualization tools.\n",
      "* **Marketing and customer relationship management (CRM):** Advertising, marketing automation, and customer support tools.\n",
      "* **Security:** Identity and access management, intrusion detection, and encryption.\n",
      "* **Artificial intelligence (AI):** Machine learning and AI tools for business intelligence and problem-solving.\n",
      "* **Management tools:** Tools for monitoring and managing your AWS resources.\n",
      "\n",
      "**AWS has a wide range of services to help businesses of all sizes build, deploy, and run applications in the cloud.** They also offer a **free tier** for various services, making them a good option for startups and small businesses.\n",
      "\n",
      "**Here are some additional things to know about AWS:**\n",
      "\n",
      "* It is the **leading cloud provider** in the world, with a market share of over 34%.\n",
      "* AWS offers a **wide range of pricing options** to fit the needs of businesses of all sizes.\n",
      "* It is **highly secure** and compliant with a variety of industry standards.\n",
      "* AWS has a **strong track record** of innovation and customer success.\n",
      "\n",
      "**Here are some resources that you may find helpful to learn more about AWS:**\n",
      "\n",
      "* **AWS website:** aws.amazon.com\n",
      "* **AWS documentation:** docs.aws.amazon.com\n",
      "* **AWS blog:** aws.amazon.com/blogs\n",
      "* **AWS Academy:** aws.amazon.com/learn-about-aws\n",
      "\n",
      "I hope this information is helpful. Please let me know if you have any other questions.\n"
     ]
    }
   ],
   "source": [
    "response = llm.invoke(\"Do you know about AWS?\")\n",
    "\n",
    "print(response)"
   ]
  },
  {
   "cell_type": "code",
   "execution_count": 6,
   "metadata": {},
   "outputs": [
    {
     "data": {
      "text/plain": [
       "Ollama(model='mkbai')"
      ]
     },
     "execution_count": 6,
     "metadata": {},
     "output_type": "execute_result"
    }
   ],
   "source": [
    "llm = Ollama(model=\"mkbai\")\n",
    "llm"
   ]
  },
  {
   "cell_type": "code",
   "execution_count": 5,
   "metadata": {},
   "outputs": [
    {
     "ename": "AttributeError",
     "evalue": "type object 'Ollama' has no attribute 'embeddings'",
     "output_type": "error",
     "traceback": [
      "\u001b[0;31m---------------------------------------------------------------------------\u001b[0m",
      "\u001b[0;31mAttributeError\u001b[0m                            Traceback (most recent call last)",
      "Cell \u001b[0;32mIn[5], line 1\u001b[0m\n\u001b[0;32m----> 1\u001b[0m \u001b[43mOllama\u001b[49m\u001b[38;5;241;43m.\u001b[39;49m\u001b[43membeddings\u001b[49m(model\u001b[38;5;241m=\u001b[39m\u001b[38;5;124m'\u001b[39m\u001b[38;5;124mmkbai\u001b[39m\u001b[38;5;124m'\u001b[39m, prompt\u001b[38;5;241m=\u001b[39m\u001b[38;5;124m'\u001b[39m\u001b[38;5;124mThe sky is blue because of rayleigh scattering\u001b[39m\u001b[38;5;124m'\u001b[39m)\n",
      "\u001b[0;31mAttributeError\u001b[0m: type object 'Ollama' has no attribute 'embeddings'"
     ]
    }
   ],
   "source": [
    "llm.embeddings(model='mkbai', prompt='The sky is blue because of rayleigh scattering')"
   ]
  }
 ],
 "metadata": {
  "kernelspec": {
   "display_name": "Python 3",
   "language": "python",
   "name": "python3"
  },
  "language_info": {
   "codemirror_mode": {
    "name": "ipython",
    "version": 3
   },
   "file_extension": ".py",
   "mimetype": "text/x-python",
   "name": "python",
   "nbconvert_exporter": "python",
   "pygments_lexer": "ipython3",
   "version": "3.10.12"
  }
 },
 "nbformat": 4,
 "nbformat_minor": 2
}
